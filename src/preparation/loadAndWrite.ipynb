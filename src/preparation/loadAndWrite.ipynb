{
 "cells": [
  {
   "cell_type": "code",
   "execution_count": 71,
   "metadata": {
    "scrolled": true
   },
   "outputs": [
    {
     "data": {
      "text/plain": [
       "'C:\\\\Users\\\\SMART-12\\\\Desktop\\\\kopofintech\\\\dataImport\\\\src\\\\preparation'"
      ]
     },
     "execution_count": 71,
     "metadata": {},
     "output_type": "execute_result"
    }
   ],
   "source": [
    "pwd"
   ]
  },
  {
   "cell_type": "code",
   "execution_count": 52,
   "metadata": {},
   "outputs": [],
   "source": [
    "import requests #Used to service API connection\n",
    "from lxml import html #Used to parse XML\n",
    "from bs4 import BeautifulSoup #Used to read XML table on webpage\n",
    "import pandas as pd\n",
    "from common import cFunction as cf\n",
    "import numpy as np\n",
    "import wget"
   ]
  },
  {
   "cell_type": "code",
   "execution_count": 60,
   "metadata": {},
   "outputs": [
    {
     "name": "stdout",
     "output_type": "stream",
     "text": [
      "### The total number of target data is 417\n"
     ]
    },
    {
     "data": {
      "text/html": [
       "<div>\n",
       "<style scoped>\n",
       "    .dataframe tbody tr th:only-of-type {\n",
       "        vertical-align: middle;\n",
       "    }\n",
       "\n",
       "    .dataframe tbody tr th {\n",
       "        vertical-align: top;\n",
       "    }\n",
       "\n",
       "    .dataframe thead th {\n",
       "        text-align: right;\n",
       "    }\n",
       "</style>\n",
       "<table border=\"1\" class=\"dataframe\">\n",
       "  <thead>\n",
       "    <tr style=\"text-align: right;\">\n",
       "      <th></th>\n",
       "      <th>번호</th>\n",
       "      <th>접속 사이트</th>\n",
       "      <th>제공항목(데이터셋)</th>\n",
       "      <th>폴더명</th>\n",
       "      <th>작업자</th>\n",
       "      <th>시작일</th>\n",
       "      <th>종료일</th>\n",
       "      <th>검토자</th>\n",
       "      <th>진행상태</th>\n",
       "      <th>비고</th>\n",
       "      <th>...</th>\n",
       "      <th>파라미터</th>\n",
       "      <th>제공방식.1</th>\n",
       "      <th>데이터타입</th>\n",
       "      <th>참고문서</th>\n",
       "      <th>참고문서타입</th>\n",
       "      <th>주기</th>\n",
       "      <th>비고_파라미터설명</th>\n",
       "      <th>완료여부</th>\n",
       "      <th>API PGM ID</th>\n",
       "      <th>파일명</th>\n",
       "    </tr>\n",
       "  </thead>\n",
       "  <tbody>\n",
       "    <tr>\n",
       "      <th>379</th>\n",
       "      <td>380</td>\n",
       "      <td>공공데이터포털</td>\n",
       "      <td>적격대출금리정보</td>\n",
       "      <td>379_적격대출금리정보</td>\n",
       "      <td>박재원</td>\n",
       "      <td>NaN</td>\n",
       "      <td>NaN</td>\n",
       "      <td>NaN</td>\n",
       "      <td>NaN</td>\n",
       "      <td>NaN</td>\n",
       "      <td>...</td>\n",
       "      <td>NaN</td>\n",
       "      <td>api</td>\n",
       "      <td>xml</td>\n",
       "      <td>https://www.data.go.kr/comm/file/download.do?a...</td>\n",
       "      <td>doc</td>\n",
       "      <td>NaN</td>\n",
       "      <td>NaN</td>\n",
       "      <td>NaN</td>\n",
       "      <td>TB_OD10379.py</td>\n",
       "      <td>TB_OD10379_yyyymm.csv</td>\n",
       "    </tr>\n",
       "  </tbody>\n",
       "</table>\n",
       "<p>1 rows × 31 columns</p>\n",
       "</div>"
      ],
      "text/plain": [
       "      번호   접속 사이트 제공항목(데이터셋)           폴더명  작업자  시작일  종료일  검토자 진행상태   비고  \\\n",
       "379  380  공공데이터포털   적격대출금리정보  379_적격대출금리정보  박재원  NaN  NaN  NaN  NaN  NaN   \n",
       "\n",
       "             ...           파라미터 제공방식.1 데이터타입  \\\n",
       "379          ...            NaN    api   xml   \n",
       "\n",
       "                                                  참고문서 참고문서타입  주기 비고_파라미터설명  \\\n",
       "379  https://www.data.go.kr/comm/file/download.do?a...    doc NaN       NaN   \n",
       "\n",
       "    완료여부     API PGM ID                    파일명  \n",
       "379  NaN  TB_OD10379.py  TB_OD10379_yyyymm.csv  \n",
       "\n",
       "[1 rows x 31 columns]"
      ]
     },
     "execution_count": 60,
     "metadata": {},
     "output_type": "execute_result"
    }
   ],
   "source": [
    "# get dataList from filesystem to load and write\n",
    "#dataList = pd.read_excel(\"../../data/inbound/dataList.xlsx\")\n",
    "\n",
    "# get dataList from spreadsheet to load and write\n",
    "dataList = pd.read_csv(\"https://docs.google.com/spreadsheets/d/1VngqG-m7G8k1587c21MZoheR1Fz3amp1mJtiBvA1Jb0/export?format=csv&gid=0\")\n",
    "print(\"### The total number of target data is \" + str(len(dataList)))\n",
    "\n",
    "# Filtering -> get dataList only defined url\n",
    "dataList = dataList[dataList['제공항목(데이터셋)']== '적격대출금리정보']\n",
    "dataList"
   ]
  },
  {
   "cell_type": "code",
   "execution_count": 72,
   "metadata": {},
   "outputs": [
    {
     "name": "stdout",
     "output_type": "stream",
     "text": [
      "### The total number of filtered data is 1\n"
     ]
    }
   ],
   "source": [
    "print(\"### The total number of filtered data is \" + str(len(dataList)))\n",
    "\n",
    "###################################################\n",
    "# Filtering -> for your own object\n",
    "#dataList = dataList[   dataList['번호'] == \"352\" ]\n",
    "###################################################\n",
    "\n",
    "# create folder to save result\n",
    "outPath = \"../../data/outbound/\"\n",
    "folderList = dataList[\"폴더명\"].tolist()"
   ]
  },
  {
   "cell_type": "code",
   "execution_count": 73,
   "metadata": {},
   "outputs": [],
   "source": [
    "for i in folderList:\n",
    "    cf.createFolder(outPath+i)"
   ]
  },
  {
   "cell_type": "code",
   "execution_count": 63,
   "metadata": {},
   "outputs": [],
   "source": [
    "#dataList.fillna : None 값 찾아서 ()안에 값으로 변경하기\n",
    "dataList = dataList.fillna(\"\")\n",
    "dataList = dataList.reset_index(drop=True)"
   ]
  },
  {
   "cell_type": "code",
   "execution_count": 74,
   "metadata": {},
   "outputs": [
    {
     "name": "stdout",
     "output_type": "stream",
     "text": [
      "http://api.hf.go.kr:8090/service/rest/conformloanrat/getConformingLoanRat?\n",
      "fullUrl is http://api.hf.go.kr:8090/service/rest/conformloanrat/getConformingLoanRat?serviceKey=Z5J2q693N6mpcWIY9wSZqKgJXsAcan78Wc8dorriZfblBHoCZSqawyAVOgvykleO26uY39699xPbDd4ENw6s1w%3D%3D\n"
     ]
    }
   ],
   "source": [
    "# get dataList to load and write\n",
    "# for dataCount in range(0,len(dataList)):\n",
    "\n",
    "## dataCount = 인덱스 값\n",
    "dataCount =0\n",
    "inputUrl = dataList.loc[dataCount, \"사이트\"]\n",
    "inputKey = dataList.loc[dataCount, \"서비스키\"]\n",
    "inputParameter = dataList.loc[dataCount, \"파라미터\"]\n",
    "inputFolder = dataList.loc[dataCount, \"폴더명\"]\n",
    "inputFile = dataList.loc[dataCount, \"서비스명\"]\n",
    "inputDataType = dataList.loc[dataCount, \"데이터타입\"]\n",
    "inputRefUrl = dataList.loc[dataCount, \"참고문서\"]\n",
    "inputRefType = dataList.loc[dataCount, \"참고문서타입\"]\n",
    "print(inputUrl)    \n",
    "url = cf.makeURL(inputUrl,inputKey,inputParameter)\n",
    "print(\"fullUrl is \" + url)"
   ]
  },
  {
   "cell_type": "code",
   "execution_count": 75,
   "metadata": {},
   "outputs": [
    {
     "name": "stdout",
     "output_type": "stream",
     "text": [
      "     applyDy callCenter interest_10y interest_15y interest_20y interest_30y  \\\n",
      "0   20190405  1566-2566         3.02         3.02         3.02         3.02   \n",
      "1   20190405  1599-8000         3.25         3.25         3.25         3.25   \n",
      "2   20190405  1599-0079         3.34         3.34         3.34         3.34   \n",
      "3   20190405  1588-8585         3.40         3.50         3.60         3.65   \n",
      "4   20190405  1588-1515         3.42         3.47         3.52         3.57   \n",
      "5   20190405  1661-3000         3.47         3.52         3.57         3.62   \n",
      "6   20190405  1588-6200         3.50         3.60         3.65         3.70   \n",
      "7   20190405  1588-7000         3.61         3.66         3.75         3.75   \n",
      "8   20190405  1588-5000         3.62         3.62         3.62         3.62   \n",
      "9   20190405  1599-1111         3.79         3.84         3.89         3.89   \n",
      "10  20190405  1588-2288            -            -            -         3.75   \n",
      "11  20190405        기본형         None         None         None         None   \n",
      "12  20190405  1588-7000         3.05         3.05         3.05         3.05   \n",
      "13  20190405  1588-5000         3.15         3.15         3.15         3.15   \n",
      "14  20190405  1566-2566         3.15         3.15         3.15         3.15   \n",
      "15  20190405  1599-8000         3.15         3.15         3.15         3.15   \n",
      "16  20190405  1588-1515         3.15         3.15         3.15         3.15   \n",
      "17  20190405  1661-3000         3.15         3.15         3.15         3.15   \n",
      "18  20190405  1588-0079         3.15         3.15         3.15         3.15   \n",
      "19  20190405  1599-1111         3.15         3.15         3.15         3.15   \n",
      "20  20190405  1588-6200         3.15         3.15         3.15         3.15   \n",
      "21  20190405  1588-8585         3.15         3.15         3.15         3.15   \n",
      "22  20190405      금리고정형         None         None         None         None   \n",
      "23  20190405      금리고정형         None         None         None         None   \n",
      "24  20190405  1588-7000         3.10         3.10         3.10         3.10   \n",
      "25  20190405  1588-5000         3.20         3.20         3.20         3.20   \n",
      "26  20190405  1588-8585         3.20         3.20         3.20         3.20   \n",
      "27  20190405  1566-2566         3.20         3.20         3.20         3.20   \n",
      "28  20190405  1599-8000         3.20         3.20         3.20         3.20   \n",
      "29  20190405  1599-1111         3.20         3.20         3.20         3.20   \n",
      "30  20190405  1588-1515         3.20         3.20         3.20         3.20   \n",
      "31  20190405  1588-5000         3.20         3.20         3.20         3.20   \n",
      "32  20190405  1588-9999         3.20         3.20         3.20         3.20   \n",
      "33  20190405  1588-6200         3.20         3.20         3.20         3.20   \n",
      "34  20190405  1588-4477         3.20         3.20         3.20         3.20   \n",
      "35  20190405  1588-3114         3.20         3.20         3.20         3.20   \n",
      "\n",
      "    orgNm prodType         productNm  \n",
      "0      기업      기본형        IBK중장기적격대출  \n",
      "1      신한      기본형      내집마련장기고정금리대출  \n",
      "2      제주      기본형          기본형 적격대출  \n",
      "3      경남      기본형   KNB장기고정금리주택담보대출  \n",
      "4      수협      기본형      Sh장기고정금리모기지론  \n",
      "5      농협      기본형        장기고정금리모기지론  \n",
      "6      부산      기본형        BS장기고정모기지론  \n",
      "7      씨티      기본형   씨티뉴장기고정금리주택담보대출  \n",
      "8      우리      기본형     장기고정금리유동화모기지론  \n",
      "9   KEB하나      기본형  KEB하나 유동화적격 모기지론  \n",
      "10   흥국생명      기본형          기본형 적격대출  \n",
      "11   None     None              None  \n",
      "12     씨티    금리고정형      씨티금리고정형 적격대출  \n",
      "13     우리    금리고정형        금리고정형 적격대출  \n",
      "14     기업    금리고정형     IBK금리고정형 적격대출  \n",
      "15     신한    금리고정형        금리고정형 적격대출  \n",
      "16     수협    금리고정형      Sh금리고정형 적격대출  \n",
      "17     농협    금리고정형      NH금리고정형 적격대출  \n",
      "18     제주    금리고정형        금리고정형 적격대출  \n",
      "19  KEB하나    금리고정형  KEB하나 금리고정형 적격대출  \n",
      "20     부산    금리고정형        금리고정형 적격대출  \n",
      "21     경남    금리고정형     KNB금리고정형 적격대출  \n",
      "22   None     None              None  \n",
      "23   None     None              None  \n",
      "24     씨티    금리조정형       씨티금리조정형적격대출  \n",
      "25     우리    금리조정형         금리조정형적격대출  \n",
      "26     경남    금리조정형      KNB금리조정형적격대출  \n",
      "27     기업    금리조정형      IBK금리조정형적격대출  \n",
      "28     신한    금리조정형         금리조정형적격대출  \n",
      "29  KEB하나    금리조정형      KEB금리조정형적격대출  \n",
      "30     수협    금리조정형       Sh금리조정형적격대출  \n",
      "31     농협    금리조정형         금리조정형적격대출  \n",
      "32     국민    금리조정형       KB금리조정형적격대출  \n",
      "33     부산    금리조정형   BS유동화적격대출 금리조정형  \n",
      "34     전북    금리조정형         금리조정형적격대출  \n",
      "35   삼성생명    금리조정형         금리조정형적격대출  \n",
      "../../data/outbound/379_적격대출금리정보/379_적격대출금리정보.csv\n"
     ]
    }
   ],
   "source": [
    "    newDF = pd.DataFrame()\n",
    "    if (inputDataType == \"xml\"):\n",
    "        newDF = cf.xmlProcess(url)\n",
    "    elif(inputDataType == \"json\"):\n",
    "        newDF = cf.jsonProcess(url)\n",
    "    elif(inputDataType == \"csv\"):\n",
    "        newDF = cf.csvProcess(url)\n",
    "\n",
    "    fullOutPath = outPath+inputFolder+\"/\"+inputFolder+inputFile+\".csv\"\n",
    "    print(fullOutPath)"
   ]
  },
  {
   "cell_type": "code",
   "execution_count": 76,
   "metadata": {},
   "outputs": [
    {
     "name": "stdout",
     "output_type": "stream",
     "text": [
      "100% [....................] 1205760 / 1205760"
     ]
    }
   ],
   "source": [
    "#csv로 저장\n",
    "    try:\n",
    "        newDF.to_csv(fullOutPath, index=False, encoding=\"ms949\")\n",
    "    except Exception as x:\n",
    "        print(x)\n",
    "##참고문서\n",
    "    fullOutRefPath = outPath + inputFolder + \"/\" + inputFolder + inputFile + \".\"+inputRefType\n",
    "##참고문서 저장\n",
    "    try:\n",
    "        wget.download(inputRefUrl, fullOutRefPath)\n",
    "    except Exception as e:\n",
    "        print(inputFolder+\"참고문서 Error\")\n",
    "        print(e)\n",
    "        pass"
   ]
  },
  {
   "cell_type": "code",
   "execution_count": null,
   "metadata": {},
   "outputs": [],
   "source": []
  },
  {
   "cell_type": "code",
   "execution_count": null,
   "metadata": {},
   "outputs": [],
   "source": []
  }
 ],
 "metadata": {
  "kernelspec": {
   "display_name": "Python 3",
   "language": "python",
   "name": "python3"
  },
  "language_info": {
   "codemirror_mode": {
    "name": "ipython",
    "version": 3
   },
   "file_extension": ".py",
   "mimetype": "text/x-python",
   "name": "python",
   "nbconvert_exporter": "python",
   "pygments_lexer": "ipython3",
   "version": "3.6.4"
  }
 },
 "nbformat": 4,
 "nbformat_minor": 2
}
